{
  "nbformat": 4,
  "nbformat_minor": 0,
  "metadata": {
    "colab": {
      "name": "Sigmoide.ipynb",
      "provenance": [],
      "collapsed_sections": [],
      "authorship_tag": "ABX9TyM7EyyT9tTDXYI+0POtjodG"
    },
    "kernelspec": {
      "name": "python3",
      "display_name": "Python 3"
    },
    "language_info": {
      "name": "python"
    }
  },
  "cells": [
    {
      "cell_type": "code",
      "metadata": {
        "id": "ozLTtCCfaPKd"
      },
      "source": [
        "import pandas as pd\n",
        "import seaborn as sns"
      ],
      "execution_count": 7,
      "outputs": []
    },
    {
      "cell_type": "markdown",
      "metadata": {
        "id": "3OesM4gmkejh"
      },
      "source": [
        "## Practicando"
      ]
    },
    {
      "cell_type": "code",
      "metadata": {
        "id": "ag2Hrz5gq4kF"
      },
      "source": [
        "y = []\n",
        "\n",
        "def sigmoide(z):\n",
        "  e = 2.718\n",
        "  sig = 1 / (1 + e**z)\n",
        "\n",
        "  y.append(sig)\n",
        "  print(y)"
      ],
      "execution_count": 134,
      "outputs": []
    },
    {
      "cell_type": "code",
      "metadata": {
        "colab": {
          "base_uri": "https://localhost:8080/"
        },
        "id": "pARBXM0DMezT",
        "outputId": "dfe56e6f-b678-4da0-c1b1-c4a984ee7845"
      },
      "source": [
        "sigmoide(0)"
      ],
      "execution_count": 135,
      "outputs": [
        {
          "output_type": "stream",
          "name": "stdout",
          "text": [
            "[0.5]\n"
          ]
        }
      ]
    },
    {
      "cell_type": "code",
      "metadata": {
        "id": "TX-KMsGmfx3t"
      },
      "source": [
        "def fsig(n):  \n",
        "  e = 2.718\n",
        "  l = []\n",
        "  \n",
        "  for z in n:\n",
        "    y = (1 / (1 + e**z))\n",
        "    Y = round(y, 3)\n",
        "    l.append(y)\n",
        "  print(Y)"
      ],
      "execution_count": null,
      "outputs": []
    },
    {
      "cell_type": "code",
      "metadata": {
        "id": "Z_W9qFFnNm9m"
      },
      "source": [
        "def fsig(n):  \n",
        "  e = 2.718\n",
        "  l = []\n",
        "  \n",
        "  for z in n:\n",
        "    y = (1 / (1 + e**z))\n",
        "    Y = round(y, 3)\n",
        "    l.append(y)\n",
        "  print(Y)"
      ],
      "execution_count": 215,
      "outputs": []
    },
    {
      "cell_type": "code",
      "metadata": {
        "colab": {
          "base_uri": "https://localhost:8080/"
        },
        "id": "-gHAPxKzyDvJ",
        "outputId": "d8a65e87-fe89-4058-c6ab-686e60acd4ec"
      },
      "source": [
        "fsig(x)"
      ],
      "execution_count": 216,
      "outputs": [
        {
          "output_type": "stream",
          "name": "stdout",
          "text": [
            "0.007\n"
          ]
        }
      ]
    },
    {
      "cell_type": "markdown",
      "metadata": {
        "id": "fb7DPoVUkXUm"
      },
      "source": [
        "## Final"
      ]
    },
    {
      "cell_type": "code",
      "metadata": {
        "colab": {
          "base_uri": "https://localhost:8080/"
        },
        "id": "tl4pXCY3FLo_",
        "outputId": "97d241be-88c8-4b6a-ac3c-45377378deb3"
      },
      "source": [
        "x = []\n",
        "l = []\n",
        "e = 2.718\n",
        "\n",
        "for i in range(-5, 6, 1):\n",
        "  x.append(i)\n",
        "  x.sort(reverse=True)\n",
        "#print(x)\n",
        "\n",
        "for i in x:\n",
        "  y =(1 / (1 + e**-i))\n",
        "  l.append(y)\n",
        "\n",
        "print(x)\n",
        "print(l)"
      ],
      "execution_count": 242,
      "outputs": [
        {
          "output_type": "stream",
          "name": "stdout",
          "text": [
            "[5, 4, 3, 2, 1, 0, -1, -2, -3, -4, -5]\n",
            "[0.9933037016996081, 0.9820064631940376, 0.9525600725169616, 0.8807753038918279, 0.7310381925766541, 0.5, 0.2689618074233459, 0.1192246961081721, 0.04743992748303842, 0.017993536805962367, 0.006696298300391907]\n"
          ]
        }
      ]
    },
    {
      "cell_type": "code",
      "metadata": {
        "id": "nbnIjVdKcf_b"
      },
      "source": [
        "df = pd.DataFrame({'Eje X': x, 'Eje Y': l})"
      ],
      "execution_count": 243,
      "outputs": []
    },
    {
      "cell_type": "code",
      "metadata": {
        "id": "cAfqlqIcaDqU",
        "colab": {
          "base_uri": "https://localhost:8080/",
          "height": 296
        },
        "outputId": "594e2c07-7c95-492b-db4c-e36edbe5b5ce"
      },
      "source": [
        "sns.lineplot(x = 'Eje X', y = 'Eje Y', data=df)"
      ],
      "execution_count": 244,
      "outputs": [
        {
          "output_type": "execute_result",
          "data": {
            "text/plain": [
              "<matplotlib.axes._subplots.AxesSubplot at 0x7f674fb44790>"
            ]
          },
          "metadata": {},
          "execution_count": 244
        },
        {
          "output_type": "display_data",
          "data": {
            "image/png": "[encoded data removed]",
            "text/plain": [
              "<Figure size 432x288 with 1 Axes>"
            ]
          },
          "metadata": {
            "needs_background": "light"
          }
        }
      ]
    },
    {
      "cell_type": "code",
      "metadata": {
        "id": "eR2y8Zx_xq9T",
        "colab": {
          "base_uri": "https://localhost:8080/"
        },
        "outputId": "f11a799d-a089-43e6-a05b-72e345b4c87b"
      },
      "source": [
        "df.columns"
      ],
      "execution_count": 233,
      "outputs": [
        {
          "output_type": "execute_result",
          "data": {
            "text/plain": [
              "Index(['Eje X', 'Eje Y'], dtype='object')"
            ]
          },
          "metadata": {},
          "execution_count": 233
        }
      ]
    },
    {
      "cell_type": "code",
      "metadata": {
        "id": "ivGiUvt5ht04"
      },
      "source": [
        ""
      ],
      "execution_count": null,
      "outputs": []
    }
  ]
}
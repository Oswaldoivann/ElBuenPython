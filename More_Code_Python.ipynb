{
  "nbformat": 4,
  "nbformat_minor": 0,
  "metadata": {
    "colab": {
      "name": "More_Code_Python.ipynb",
      "provenance": [],
      "collapsed_sections": [
        "nvU5ZxhZ2LtE",
        "QF1FusV3xpoX",
        "klPz-s9I0C5Z",
        "t1SuJ3K4hLGz"
      ],
      "authorship_tag": "ABX9TyP+/4ms9MLLtTXlFAWgSxN+",
      "include_colab_link": true
    },
    "kernelspec": {
      "name": "python3",
      "display_name": "Python 3"
    },
    "language_info": {
      "name": "python"
    }
  },
  "cells": [
    {
      "cell_type": "markdown",
      "metadata": {
        "id": "view-in-github",
        "colab_type": "text"
      },
      "source": [
        "<a href=\"https://colab.research.google.com/github/Oswaldoivann/ElBuenPython/blob/main/More_Code_Python.ipynb\" target=\"_parent\"><img src=\"https://colab.research.google.com/assets/colab-badge.svg\" alt=\"Open In Colab\"/></a>"
      ]
    },
    {
      "cell_type": "markdown",
      "metadata": {
        "id": "nvU5ZxhZ2LtE"
      },
      "source": [
        "## Paquetes"
      ]
    },
    {
      "cell_type": "code",
      "metadata": {
        "id": "PbzWBRLo0A96"
      },
      "source": [
        ""
      ],
      "execution_count": null,
      "outputs": []
    },
    {
      "cell_type": "markdown",
      "metadata": {
        "id": "QF1FusV3xpoX"
      },
      "source": [
        "## Arrays\n",
        "\n"
      ]
    },
    {
      "cell_type": "code",
      "metadata": {
        "id": "uzvtfL4zuCUP"
      },
      "source": [
        "import numpy as np"
      ],
      "execution_count": null,
      "outputs": []
    },
    {
      "cell_type": "code",
      "metadata": {
        "id": "h-sUdxgIBMyV"
      },
      "source": [
        "#Una funcion con todos los argumentos\n",
        "def amigos(*compa):\n",
        "  print('Mi mejor amigo es: ', compa[0:2])"
      ],
      "execution_count": null,
      "outputs": []
    },
    {
      "cell_type": "code",
      "metadata": {
        "colab": {
          "base_uri": "https://localhost:8080/"
        },
        "id": "MXgMWTZRBWWM",
        "outputId": "eba87b96-ad74-4708-ac2d-c8167800ff04"
      },
      "source": [
        "amigos('Os', 'ma', 'no', 'no')"
      ],
      "execution_count": null,
      "outputs": [
        {
          "output_type": "stream",
          "name": "stdout",
          "text": [
            "Mi mejor amigo es:  ('Os', 'ma')\n"
          ]
        }
      ]
    },
    {
      "cell_type": "code",
      "metadata": {
        "id": "UFnNyzWsBtTd"
      },
      "source": [
        "jugadores = np.array([['ID', 'N_P', 'Nombre', 'Edad', 'Equipo'],\n",
        "                      [1, 1, 'Oswaldo', 25, 5],\n",
        "                      [2, 2, 'Manuel', 18, 5],\n",
        "                      [3, 3, 'Maria', 20, 5],\n",
        "                      [4, 4, 'Perla', 21, 5],\n",
        "                      [5, 5, 'Jessica', 22, 5],\n",
        "                      [6, 6, 'Alejandra', 23, 6],\n",
        "                      [7, 7, 'x', 26, 6],\n",
        "                      [8, 8, 'y', 27, 6],\n",
        "                      [9, 9, 'z', 28, 6],\n",
        "                      [10, 10, 'u', 29, 6]])"
      ],
      "execution_count": null,
      "outputs": []
    },
    {
      "cell_type": "code",
      "metadata": {
        "colab": {
          "base_uri": "https://localhost:8080/"
        },
        "id": "luEN612vuiF7",
        "outputId": "f83d35d5-c645-4012-8627-376eb8f081bc"
      },
      "source": [
        "jugadores"
      ],
      "execution_count": null,
      "outputs": [
        {
          "output_type": "execute_result",
          "data": {
            "text/plain": [
              "array([['ID', 'N_P', 'Nombre', 'Edad', 'Equipo'],\n",
              "       ['1', '1', 'Oswaldo', '25', '5'],\n",
              "       ['2', '2', 'Manuel', '18', '5'],\n",
              "       ['3', '3', 'Maria', '20', '5'],\n",
              "       ['4', '4', 'Perla', '21', '5'],\n",
              "       ['5', '5', 'Jessica', '22', '5'],\n",
              "       ['6', '6', 'Alejandra', '23', '6'],\n",
              "       ['7', '7', 'x', '26', '6'],\n",
              "       ['8', '8', 'y', '27', '6'],\n",
              "       ['9', '9', 'z', '28', '6'],\n",
              "       ['10', '10', 'u', '29', '6']], dtype='<U9')"
            ]
          },
          "metadata": {},
          "execution_count": 11
        }
      ]
    },
    {
      "cell_type": "code",
      "metadata": {
        "id": "NTmxDn8F16_V"
      },
      "source": [
        "x = ['os', 'no']\n",
        "\n",
        "def sala (x):\n",
        "  print('Hola sala x, Bienvenidos', x )"
      ],
      "execution_count": null,
      "outputs": []
    },
    {
      "cell_type": "code",
      "metadata": {
        "colab": {
          "base_uri": "https://localhost:8080/"
        },
        "id": "6F2gJF_u5OzD",
        "outputId": "b3dd9e35-c6a1-44fd-cc88-f530d913e257"
      },
      "source": [
        "sala(x)"
      ],
      "execution_count": null,
      "outputs": [
        {
          "output_type": "stream",
          "name": "stdout",
          "text": [
            "Hola sala x, Bienvenidos ['os', 'no']\n"
          ]
        }
      ]
    },
    {
      "cell_type": "code",
      "metadata": {
        "colab": {
          "base_uri": "https://localhost:8080/"
        },
        "id": "jkMNCI875Qfh",
        "outputId": "8873c7b0-5e1e-4e12-f7d2-fddab6901faa"
      },
      "source": [
        "def sala ():\n",
        "  x = str(input('Cual es tu nombre: '))\n",
        "print('Bienvenido a la sala 3: ', x)\n",
        "  \n",
        "  "
      ],
      "execution_count": null,
      "outputs": [
        {
          "output_type": "stream",
          "name": "stdout",
          "text": [
            "Bienvenido a la sala 3:  ['os', 'no']\n"
          ]
        }
      ]
    },
    {
      "cell_type": "markdown",
      "metadata": {
        "id": "klPz-s9I0C5Z"
      },
      "source": [
        "## Funciones Lambda"
      ]
    },
    {
      "cell_type": "code",
      "metadata": {
        "id": "2MerCV9C0FS3"
      },
      "source": [
        "area_triangulo = lambda base, altura: (base*altura)/2 "
      ],
      "execution_count": null,
      "outputs": []
    },
    {
      "cell_type": "code",
      "metadata": {
        "id": "b8De7Q-30SzQ"
      },
      "source": [
        "cubo = lambda a: (a**3)"
      ],
      "execution_count": null,
      "outputs": []
    },
    {
      "cell_type": "code",
      "metadata": {
        "colab": {
          "base_uri": "https://localhost:8080/"
        },
        "id": "8HSo0I690d1F",
        "outputId": "8d51a238-02ba-42b1-9af8-01d42db45f4d"
      },
      "source": [
        "cubo(3)"
      ],
      "execution_count": null,
      "outputs": [
        {
          "output_type": "execute_result",
          "data": {
            "text/plain": [
              "27"
            ]
          },
          "metadata": {},
          "execution_count": 2
        }
      ]
    },
    {
      "cell_type": "code",
      "metadata": {
        "id": "44hsy9Px0hva"
      },
      "source": [
        "numeros = [8, 23, 6, 24, 8, 9, 10]"
      ],
      "execution_count": null,
      "outputs": []
    },
    {
      "cell_type": "code",
      "metadata": {
        "id": "s6XbGhDj0rXY"
      },
      "source": [
        "exponente = list(map(lambda x: x**2, numeros))"
      ],
      "execution_count": null,
      "outputs": []
    },
    {
      "cell_type": "code",
      "metadata": {
        "colab": {
          "base_uri": "https://localhost:8080/"
        },
        "id": "FSRr9I_P05K_",
        "outputId": "e0e5cc15-3376-4ee9-8c63-7d8275fc9643"
      },
      "source": [
        "print(exponente)"
      ],
      "execution_count": null,
      "outputs": [
        {
          "output_type": "stream",
          "name": "stdout",
          "text": [
            "[64, 529, 36, 576, 64, 81, 100]\n"
          ]
        }
      ]
    },
    {
      "cell_type": "code",
      "metadata": {
        "id": "Kv9m4CUp0-6R"
      },
      "source": [
        "par = list(filter(lambda x: x%2 == 0, numeros))"
      ],
      "execution_count": null,
      "outputs": []
    },
    {
      "cell_type": "code",
      "metadata": {
        "colab": {
          "base_uri": "https://localhost:8080/"
        },
        "id": "RTk9td7h1Nes",
        "outputId": "3d67faf4-f326-416d-e70a-14dca55097af"
      },
      "source": [
        "print(par)"
      ],
      "execution_count": null,
      "outputs": [
        {
          "output_type": "stream",
          "name": "stdout",
          "text": [
            "[8, 6, 24, 8, 10]\n"
          ]
        }
      ]
    },
    {
      "cell_type": "code",
      "metadata": {
        "id": "JtPLSSPm1PAH"
      },
      "source": [
        "menor = list(filter(lambda x: x < 10, numeros))"
      ],
      "execution_count": null,
      "outputs": []
    },
    {
      "cell_type": "code",
      "metadata": {
        "colab": {
          "base_uri": "https://localhost:8080/"
        },
        "id": "EMhlaPXk12AJ",
        "outputId": "f016d790-fa1e-4ed2-97b7-6024859dca13"
      },
      "source": [
        "print(menor)"
      ],
      "execution_count": null,
      "outputs": [
        {
          "output_type": "stream",
          "name": "stdout",
          "text": [
            "[8, 6, 8, 9]\n"
          ]
        }
      ]
    },
    {
      "cell_type": "code",
      "metadata": {
        "id": "oHPZS9Qbui5H",
        "colab": {
          "base_uri": "https://localhost:8080/"
        },
        "outputId": "741a5a78-3790-4b69-9f64-a21c1d414534"
      },
      "source": [
        "#Como hacer una multiplicacion con Lambda\n",
        "x = lambda a, b: a * b\n",
        " print('El resultado es: ', x(5,5))\n"
      ],
      "execution_count": null,
      "outputs": [
        {
          "output_type": "stream",
          "name": "stdout",
          "text": [
            "El resultado es:  25\n"
          ]
        }
      ]
    },
    {
      "cell_type": "code",
      "metadata": {
        "id": "91tAA5Q-4hhs"
      },
      "source": [
        "#Como hacer una multiplicacion con Lambda\n",
        "def mult(a):\n",
        "  return lambda b: a * b\n",
        "\n",
        "exp = mult(1) #Este es el argumento a\n",
        "\n",
        "print(exp(6)) #Este es el argumento b"
      ],
      "execution_count": null,
      "outputs": []
    },
    {
      "cell_type": "markdown",
      "metadata": {
        "id": "t1SuJ3K4hLGz"
      },
      "source": [
        "## Numpy "
      ]
    },
    {
      "cell_type": "code",
      "metadata": {
        "id": "mf6mUf2LhW06"
      },
      "source": [
        "import numpy as np"
      ],
      "execution_count": null,
      "outputs": []
    },
    {
      "cell_type": "code",
      "metadata": {
        "id": "HoVvfLvxhWx3",
        "colab": {
          "base_uri": "https://localhost:8080/"
        },
        "outputId": "611279a5-c8b9-4cab-922d-5ce7bd5e41ff"
      },
      "source": [
        "Arreglo_numeros = ([])\n",
        "print('Cuantos numeros van en el arreglo: ')\n",
        "Total = int (input())\n",
        "\n",
        "for Elemento_arreglo in range(Total):\n",
        "  print('Ingresa un numero: ')\n",
        "  item = int(input())\n",
        "  Arreglo_numeros.append(item)\n",
        "  print(Arreglo_numeros)\n",
        "  Arreglo_numeros.sort()\n",
        "  print(Arreglo_numeros)"
      ],
      "execution_count": null,
      "outputs": [
        {
          "output_type": "stream",
          "name": "stdout",
          "text": [
            "Cuantos numeros van en el arreglo: \n",
            "9\n",
            "Ingresa un numero: \n",
            "1\n",
            "[1]\n",
            "[1]\n",
            "Ingresa un numero: \n",
            "2\n",
            "[1, 2]\n",
            "[1, 2]\n",
            "Ingresa un numero: \n",
            "3\n",
            "[1, 2, 3]\n",
            "[1, 2, 3]\n",
            "Ingresa un numero: \n",
            "4\n",
            "[1, 2, 3, 4]\n",
            "[1, 2, 3, 4]\n",
            "Ingresa un numero: \n",
            "5\n",
            "[1, 2, 3, 4, 5]\n",
            "[1, 2, 3, 4, 5]\n",
            "Ingresa un numero: \n",
            "6\n",
            "[1, 2, 3, 4, 5, 6]\n",
            "[1, 2, 3, 4, 5, 6]\n",
            "Ingresa un numero: \n",
            "7\n",
            "[1, 2, 3, 4, 5, 6, 7]\n",
            "[1, 2, 3, 4, 5, 6, 7]\n",
            "Ingresa un numero: \n",
            "8\n",
            "[1, 2, 3, 4, 5, 6, 7, 8]\n",
            "[1, 2, 3, 4, 5, 6, 7, 8]\n",
            "Ingresa un numero: \n",
            "9\n",
            "[1, 2, 3, 4, 5, 6, 7, 8, 9]\n",
            "[1, 2, 3, 4, 5, 6, 7, 8, 9]\n"
          ]
        }
      ]
    },
    {
      "cell_type": "code",
      "metadata": {
        "id": "9WgNboQEhWwW",
        "colab": {
          "base_uri": "https://localhost:8080/"
        },
        "outputId": "897939cd-2a59-4fd5-9a9d-4b15d15517c5"
      },
      "source": [
        "Arreglo_numeros = ([])\n",
        "print('Cuantos numeros van en el arreglo: ')\n",
        "Total = 9\n",
        "\n",
        "for Elemento_arreglo in range(Total):\n",
        "  print('Ingresa un numero: ')\n",
        "  item = int(input())\n",
        "  Arreglo_numeros.append(item)\n",
        "  print(Arreglo_numeros)\n",
        "  Arreglo_numeros.sort()\n",
        "  print(Arreglo_numeros)"
      ],
      "execution_count": null,
      "outputs": [
        {
          "output_type": "stream",
          "name": "stdout",
          "text": [
            "Cuantos numeros van en el arreglo: \n",
            "Ingresa un numero: \n",
            "3\n",
            "[3]\n",
            "[3]\n",
            "Ingresa un numero: \n",
            "7\n",
            "[3, 7]\n",
            "[3, 7]\n",
            "Ingresa un numero: \n",
            "5\n",
            "[3, 7, 5]\n",
            "[3, 5, 7]\n",
            "Ingresa un numero: \n",
            "9\n",
            "[3, 5, 7, 9]\n",
            "[3, 5, 7, 9]\n",
            "Ingresa un numero: \n",
            "4\n",
            "[3, 5, 7, 9, 4]\n",
            "[3, 4, 5, 7, 9]\n",
            "Ingresa un numero: \n",
            "7\n",
            "[3, 4, 5, 7, 9, 7]\n",
            "[3, 4, 5, 7, 7, 9]\n",
            "Ingresa un numero: \n",
            "6\n",
            "[3, 4, 5, 7, 7, 9, 6]\n",
            "[3, 4, 5, 6, 7, 7, 9]\n",
            "Ingresa un numero: \n",
            "7\n",
            "[3, 4, 5, 6, 7, 7, 9, 7]\n",
            "[3, 4, 5, 6, 7, 7, 7, 9]\n",
            "Ingresa un numero: \n",
            "5\n",
            "[3, 4, 5, 6, 7, 7, 7, 9, 5]\n",
            "[3, 4, 5, 5, 6, 7, 7, 7, 9]\n"
          ]
        }
      ]
    },
    {
      "cell_type": "code",
      "metadata": {
        "id": "pbD7I28MFG7W"
      },
      "source": [
        ""
      ],
      "execution_count": null,
      "outputs": []
    },
    {
      "cell_type": "markdown",
      "metadata": {
        "id": "UF1JYVW6G1b1"
      },
      "source": [
        "## Pandas"
      ]
    },
    {
      "cell_type": "code",
      "metadata": {
        "id": "SdiGIHucG4s5"
      },
      "source": [
        "import pandas as pd"
      ],
      "execution_count": 3,
      "outputs": []
    },
    {
      "cell_type": "markdown",
      "metadata": {
        "id": "KYrMhN98nAoh"
      },
      "source": [
        "### Pandas with Excel"
      ]
    },
    {
      "cell_type": "code",
      "metadata": {
        "id": "TqTC8XaDG4m4"
      },
      "source": [
        "x = [1,7,2,3,4,6,7,9,5]\n",
        "\n",
        "Arreglo = pd.Series(x)"
      ],
      "execution_count": null,
      "outputs": []
    },
    {
      "cell_type": "code",
      "metadata": {
        "id": "RttH2nkfG4if"
      },
      "source": [
        "Arreglo"
      ],
      "execution_count": null,
      "outputs": []
    },
    {
      "cell_type": "code",
      "metadata": {
        "id": "e1XacX3TJ6gM"
      },
      "source": [
        "Arreglo2 = pd.Series(x, index=['A', 'B', 'C', 'D', 'E', 'F', 'G', 'H' , 'I'])"
      ],
      "execution_count": null,
      "outputs": []
    },
    {
      "cell_type": "code",
      "metadata": {
        "id": "ZamPM98AKekq"
      },
      "source": [
        "Arreglo2"
      ],
      "execution_count": null,
      "outputs": []
    },
    {
      "cell_type": "code",
      "metadata": {
        "id": "MPs4cNhSKkHu"
      },
      "source": [
        "data_inicio = ({})\n",
        "df_null = pd.DataFrame(data_inicio)\n",
        "df_null.to_excel('Practica.xlsx', index = False)"
      ],
      "execution_count": null,
      "outputs": []
    },
    {
      "cell_type": "code",
      "metadata": {
        "id": "FJpjPKikK_Yj"
      },
      "source": [
        "writer = pd.ExcelWriter('Practica.xlsx')\n",
        "\n",
        "data1 = {'id': [1,2,3,4,5,6,7,8,9,10],\n",
        "         'Precio': [12.65, 10.00, 12.50, 20.10, 35.50, 5.50, 4.30, 8.20, 2.50, 10.0]}\n",
        "\n",
        "Series1 = pd.DataFrame(data1) \n",
        "\n",
        "Series1.to_excel(writer, 'Precios', index = False)\n",
        "\n",
        "writer.save()\n",
        "writer.close()"
      ],
      "execution_count": null,
      "outputs": []
    },
    {
      "cell_type": "code",
      "metadata": {
        "id": "GjKOazuQPS-7"
      },
      "source": [
        "writer = pd.ExcelWriter('Practica.xlsx')\n",
        "\n",
        "data2 = {'id': [1,2,3,4,5,6,7,8,9,10],\n",
        "         'Productos': []}\n",
        "\n",
        "Series2 = pd.DataFrame(data1) \n",
        "\n",
        "Series2.to_excel(writer, 'Productos', index = False)\n",
        "\n",
        "writer.save()\n",
        "writer.close()"
      ],
      "execution_count": null,
      "outputs": []
    },
    {
      "cell_type": "code",
      "metadata": {
        "id": "orGfV0FTrDfG"
      },
      "source": [
        "leer_datos = pd.read_excel('Practica1.xlsx', 'Precios', index_col=0)"
      ],
      "execution_count": null,
      "outputs": []
    },
    {
      "cell_type": "code",
      "metadata": {
        "id": "SpQa1E45rDWz"
      },
      "source": [
        "leer_datos"
      ],
      "execution_count": null,
      "outputs": []
    },
    {
      "cell_type": "code",
      "metadata": {
        "id": "4kuWp8IZrDRa"
      },
      "source": [
        "leer_datos.head();"
      ],
      "execution_count": null,
      "outputs": []
    },
    {
      "cell_type": "code",
      "metadata": {
        "id": "Re_sIfiUrDGB"
      },
      "source": [
        "leer_datos.tail()"
      ],
      "execution_count": null,
      "outputs": []
    },
    {
      "cell_type": "code",
      "metadata": {
        "id": "0cXArrthro3c"
      },
      "source": [
        "leer_datos.describe()"
      ],
      "execution_count": null,
      "outputs": []
    },
    {
      "cell_type": "code",
      "metadata": {
        "id": "DkfqA928ro1C"
      },
      "source": [
        "Equipo = {'Numero Playera': [18, 20, 22, 24, 26, 28],\n",
        "          'Posicion': [1, 2, 3, 4, 5, 6],\n",
        "          'Edad': [14, 16, 15, 13, 14, 15]}"
      ],
      "execution_count": null,
      "outputs": []
    },
    {
      "cell_type": "code",
      "metadata": {
        "id": "6OnofzTFroyP"
      },
      "source": [
        "df = pd.DataFrame(Equipo, index= ['Diego', 'Eduardo', 'Yael', 'Fatima', 'Mia', 'Sofia'])"
      ],
      "execution_count": null,
      "outputs": []
    },
    {
      "cell_type": "code",
      "metadata": {
        "colab": {
          "base_uri": "https://localhost:8080/"
        },
        "id": "xpxy6gCLrouN",
        "outputId": "050a0126-a4f8-44eb-b53a-bf30a5717a0d"
      },
      "source": [
        "print(df)"
      ],
      "execution_count": null,
      "outputs": [
        {
          "output_type": "stream",
          "name": "stdout",
          "text": [
            "         Numero Playera  Posicion  Edad\n",
            "Diego                18         1    14\n",
            "Eduardo              20         2    16\n",
            "Yael                 22         3    15\n",
            "Fatima               24         4    13\n",
            "Mia                  26         5    14\n",
            "Sofia                28         6    15\n"
          ]
        }
      ]
    },
    {
      "cell_type": "code",
      "metadata": {
        "colab": {
          "base_uri": "https://localhost:8080/"
        },
        "id": "9JPAeh1Prorq",
        "outputId": "be7ff7d7-67a9-45ce-a997-e0b3969568eb"
      },
      "source": [
        "df.loc['Diego']"
      ],
      "execution_count": null,
      "outputs": [
        {
          "output_type": "execute_result",
          "data": {
            "text/plain": [
              "Numero Playera    18\n",
              "Posicion           1\n",
              "Edad              14\n",
              "Name: Diego, dtype: int64"
            ]
          },
          "metadata": {},
          "execution_count": 11
        }
      ]
    },
    {
      "cell_type": "code",
      "metadata": {
        "colab": {
          "base_uri": "https://localhost:8080/",
          "height": 235
        },
        "id": "ohu5GMR3rop1",
        "outputId": "ed23f90c-8dab-448b-bacd-f23d1429b53d"
      },
      "source": [
        "df[['Edad', 'Posicion']]"
      ],
      "execution_count": null,
      "outputs": [
        {
          "output_type": "execute_result",
          "data": {
            "text/html": [
              "<div>\n",
              "<style scoped>\n",
              "    .dataframe tbody tr th:only-of-type {\n",
              "        vertical-align: middle;\n",
              "    }\n",
              "\n",
              "    .dataframe tbody tr th {\n",
              "        vertical-align: top;\n",
              "    }\n",
              "\n",
              "    .dataframe thead th {\n",
              "        text-align: right;\n",
              "    }\n",
              "</style>\n",
              "<table border=\"1\" class=\"dataframe\">\n",
              "  <thead>\n",
              "    <tr style=\"text-align: right;\">\n",
              "      <th></th>\n",
              "      <th>Edad</th>\n",
              "      <th>Posicion</th>\n",
              "    </tr>\n",
              "  </thead>\n",
              "  <tbody>\n",
              "    <tr>\n",
              "      <th>Diego</th>\n",
              "      <td>14</td>\n",
              "      <td>1</td>\n",
              "    </tr>\n",
              "    <tr>\n",
              "      <th>Eduardo</th>\n",
              "      <td>16</td>\n",
              "      <td>2</td>\n",
              "    </tr>\n",
              "    <tr>\n",
              "      <th>Yael</th>\n",
              "      <td>15</td>\n",
              "      <td>3</td>\n",
              "    </tr>\n",
              "    <tr>\n",
              "      <th>Fatima</th>\n",
              "      <td>13</td>\n",
              "      <td>4</td>\n",
              "    </tr>\n",
              "    <tr>\n",
              "      <th>Mia</th>\n",
              "      <td>14</td>\n",
              "      <td>5</td>\n",
              "    </tr>\n",
              "    <tr>\n",
              "      <th>Sofia</th>\n",
              "      <td>15</td>\n",
              "      <td>6</td>\n",
              "    </tr>\n",
              "  </tbody>\n",
              "</table>\n",
              "</div>"
            ],
            "text/plain": [
              "         Edad  Posicion\n",
              "Diego      14         1\n",
              "Eduardo    16         2\n",
              "Yael       15         3\n",
              "Fatima     13         4\n",
              "Mia        14         5\n",
              "Sofia      15         6"
            ]
          },
          "metadata": {},
          "execution_count": 12
        }
      ]
    },
    {
      "cell_type": "markdown",
      "metadata": {
        "id": "EZI-rfDmm79-"
      },
      "source": [
        "### Create Excel"
      ]
    },
    {
      "cell_type": "code",
      "metadata": {
        "id": "ce1YiogProoG"
      },
      "source": [
        "data_inicio = ({})\n",
        "df_null = pd.DataFrame(data_inicio)\n",
        "df_null.to_excel('Excel_con_pandas.xlsx', index = False)"
      ],
      "execution_count": 4,
      "outputs": []
    },
    {
      "cell_type": "code",
      "metadata": {
        "id": "fEAP0M7ZuvhJ"
      },
      "source": [
        "writer = pd.ExcelWriter('Excel_con_pandas.xlsx')\n",
        "\n",
        "data1 = {'id': [1,2,3,4,5,6,7,8,9,10],\n",
        "         'Precio': [12.65, 10.00, 12.50, 20.10, 35.50, 5.50, 4.30, 8.20, 2.50, 10.0],\n",
        "         'Categoria': ['Bebida', 'Alimentos', 'Dulceria', 'Lacteos', 'Verduras', 'Ropa', 'Tacos', 'Frutas', 'Electronica', 'Blancos'],\n",
        "         'Stock': [5,8,4,3,9,6,7,2,10,20],\n",
        "         'Nombre': ['Agua', 'Sopa', 'Paletas', 'Leche', 'Zanahoria', 'Playera', 'Pastor', 'Manzana', 'Pilas', 'Sabanas']}\n",
        "\n",
        "\n",
        "\n",
        "data2 = {'id': [1,2,3,4,5,6,7,8,9,10],\n",
        "         'Precio': [12.65, 15.00, 25.50, 30.10, 75.50, 51.50, 45.30, 8.20, 2550.50, 100.0],\n",
        "         'Categoria': ['Bebida', 'Alimentos', 'Dulceria', 'Lacteos', 'Verduras', 'Ropa', 'Tacos', 'Frutas', 'Electronica', 'Blancos'],\n",
        "         'Stock': [3,9,6,7,2,10,20, 8, 9, 10],\n",
        "         'Nombre': ['Refrescos', 'Verduras', 'Chocolates', 'Quesos', 'Papas', 'Pantalos', 'Suadero', 'Pera', 'Mobile', 'Almohadas']}\n",
        "\n",
        " \n",
        "Series1 = pd.DataFrame(data1) \n",
        "Series2 = pd.DataFrame(data2)\n",
        "Series1.to_excel(writer, 'Productos', index = False)\n",
        "Series2.to_excel(writer, 'Categorias', index = False)\n",
        "\n",
        "writer.save()\n",
        "writer.close()"
      ],
      "execution_count": 5,
      "outputs": []
    },
    {
      "cell_type": "code",
      "metadata": {
        "id": "r8EoIkzDuvhK"
      },
      "source": [
        "df = pd.read_excel('Excel_con_pandas.xlsx', index_col=0)"
      ],
      "execution_count": 8,
      "outputs": []
    },
    {
      "cell_type": "code",
      "metadata": {
        "id": "5IBv2BzouvT0",
        "colab": {
          "base_uri": "https://localhost:8080/"
        },
        "outputId": "627f08fc-5d17-4ff4-cb02-44c18301b494"
      },
      "source": [
        "df.shape"
      ],
      "execution_count": 12,
      "outputs": [
        {
          "output_type": "execute_result",
          "data": {
            "text/plain": [
              "(10, 4)"
            ]
          },
          "metadata": {},
          "execution_count": 12
        }
      ]
    },
    {
      "cell_type": "code",
      "metadata": {
        "id": "YcV2spyYrojP",
        "colab": {
          "base_uri": "https://localhost:8080/",
          "height": 204
        },
        "outputId": "7f31b0cc-fe4e-4d68-b1da-adeec40e7869"
      },
      "source": [
        "data1 = pd.read_excel('Excel_con_pandas.xlsx', sheet_name = 'Productos')\n",
        "data1.head()"
      ],
      "execution_count": 16,
      "outputs": [
        {
          "output_type": "execute_result",
          "data": {
            "text/html": [
              "<div>\n",
              "<style scoped>\n",
              "    .dataframe tbody tr th:only-of-type {\n",
              "        vertical-align: middle;\n",
              "    }\n",
              "\n",
              "    .dataframe tbody tr th {\n",
              "        vertical-align: top;\n",
              "    }\n",
              "\n",
              "    .dataframe thead th {\n",
              "        text-align: right;\n",
              "    }\n",
              "</style>\n",
              "<table border=\"1\" class=\"dataframe\">\n",
              "  <thead>\n",
              "    <tr style=\"text-align: right;\">\n",
              "      <th></th>\n",
              "      <th>id</th>\n",
              "      <th>Precio</th>\n",
              "      <th>Categoria</th>\n",
              "      <th>Stock</th>\n",
              "      <th>Nombre</th>\n",
              "    </tr>\n",
              "  </thead>\n",
              "  <tbody>\n",
              "    <tr>\n",
              "      <th>0</th>\n",
              "      <td>1</td>\n",
              "      <td>12.65</td>\n",
              "      <td>Bebida</td>\n",
              "      <td>5</td>\n",
              "      <td>Agua</td>\n",
              "    </tr>\n",
              "    <tr>\n",
              "      <th>1</th>\n",
              "      <td>2</td>\n",
              "      <td>10.00</td>\n",
              "      <td>Alimentos</td>\n",
              "      <td>8</td>\n",
              "      <td>Sopa</td>\n",
              "    </tr>\n",
              "    <tr>\n",
              "      <th>2</th>\n",
              "      <td>3</td>\n",
              "      <td>12.50</td>\n",
              "      <td>Dulceria</td>\n",
              "      <td>4</td>\n",
              "      <td>Paletas</td>\n",
              "    </tr>\n",
              "    <tr>\n",
              "      <th>3</th>\n",
              "      <td>4</td>\n",
              "      <td>20.10</td>\n",
              "      <td>Lacteos</td>\n",
              "      <td>3</td>\n",
              "      <td>Leche</td>\n",
              "    </tr>\n",
              "    <tr>\n",
              "      <th>4</th>\n",
              "      <td>5</td>\n",
              "      <td>35.50</td>\n",
              "      <td>Verduras</td>\n",
              "      <td>9</td>\n",
              "      <td>Zanahoria</td>\n",
              "    </tr>\n",
              "  </tbody>\n",
              "</table>\n",
              "</div>"
            ],
            "text/plain": [
              "   id  Precio  Categoria  Stock     Nombre\n",
              "0   1   12.65     Bebida      5       Agua\n",
              "1   2   10.00  Alimentos      8       Sopa\n",
              "2   3   12.50   Dulceria      4    Paletas\n",
              "3   4   20.10    Lacteos      3      Leche\n",
              "4   5   35.50   Verduras      9  Zanahoria"
            ]
          },
          "metadata": {},
          "execution_count": 16
        }
      ]
    },
    {
      "cell_type": "code",
      "metadata": {
        "id": "00-T5bJ6rog9",
        "colab": {
          "base_uri": "https://localhost:8080/",
          "height": 204
        },
        "outputId": "9db765ff-0281-4651-a3f3-8b836ffd77a1"
      },
      "source": [
        "data2 = pd.read_excel('Excel_con_pandas.xlsx', sheet_name = 'Categorias')\n",
        "data2.tail()"
      ],
      "execution_count": 18,
      "outputs": [
        {
          "output_type": "execute_result",
          "data": {
            "text/html": [
              "<div>\n",
              "<style scoped>\n",
              "    .dataframe tbody tr th:only-of-type {\n",
              "        vertical-align: middle;\n",
              "    }\n",
              "\n",
              "    .dataframe tbody tr th {\n",
              "        vertical-align: top;\n",
              "    }\n",
              "\n",
              "    .dataframe thead th {\n",
              "        text-align: right;\n",
              "    }\n",
              "</style>\n",
              "<table border=\"1\" class=\"dataframe\">\n",
              "  <thead>\n",
              "    <tr style=\"text-align: right;\">\n",
              "      <th></th>\n",
              "      <th>id</th>\n",
              "      <th>Precio</th>\n",
              "      <th>Categoria</th>\n",
              "      <th>Stock</th>\n",
              "      <th>Nombre</th>\n",
              "    </tr>\n",
              "  </thead>\n",
              "  <tbody>\n",
              "    <tr>\n",
              "      <th>5</th>\n",
              "      <td>6</td>\n",
              "      <td>51.5</td>\n",
              "      <td>Ropa</td>\n",
              "      <td>10</td>\n",
              "      <td>Pantalos</td>\n",
              "    </tr>\n",
              "    <tr>\n",
              "      <th>6</th>\n",
              "      <td>7</td>\n",
              "      <td>45.3</td>\n",
              "      <td>Tacos</td>\n",
              "      <td>20</td>\n",
              "      <td>Suadero</td>\n",
              "    </tr>\n",
              "    <tr>\n",
              "      <th>7</th>\n",
              "      <td>8</td>\n",
              "      <td>8.2</td>\n",
              "      <td>Frutas</td>\n",
              "      <td>8</td>\n",
              "      <td>Pera</td>\n",
              "    </tr>\n",
              "    <tr>\n",
              "      <th>8</th>\n",
              "      <td>9</td>\n",
              "      <td>2550.5</td>\n",
              "      <td>Electronica</td>\n",
              "      <td>9</td>\n",
              "      <td>Mobile</td>\n",
              "    </tr>\n",
              "    <tr>\n",
              "      <th>9</th>\n",
              "      <td>10</td>\n",
              "      <td>100.0</td>\n",
              "      <td>Blancos</td>\n",
              "      <td>10</td>\n",
              "      <td>Almohadas</td>\n",
              "    </tr>\n",
              "  </tbody>\n",
              "</table>\n",
              "</div>"
            ],
            "text/plain": [
              "   id  Precio    Categoria  Stock     Nombre\n",
              "5   6    51.5         Ropa     10   Pantalos\n",
              "6   7    45.3        Tacos     20    Suadero\n",
              "7   8     8.2       Frutas      8       Pera\n",
              "8   9  2550.5  Electronica      9     Mobile\n",
              "9  10   100.0      Blancos     10  Almohadas"
            ]
          },
          "metadata": {},
          "execution_count": 18
        }
      ]
    },
    {
      "cell_type": "code",
      "metadata": {
        "id": "6ORq8Lz2roe5"
      },
      "source": [
        ""
      ],
      "execution_count": null,
      "outputs": []
    },
    {
      "cell_type": "code",
      "metadata": {
        "id": "yBOTGvwArocp"
      },
      "source": [
        ""
      ],
      "execution_count": null,
      "outputs": []
    },
    {
      "cell_type": "code",
      "metadata": {
        "id": "fDi0Gon3roaV"
      },
      "source": [
        ""
      ],
      "execution_count": null,
      "outputs": []
    },
    {
      "cell_type": "markdown",
      "metadata": {
        "id": "JaojVgJ1pZi8"
      },
      "source": [
        "## More"
      ]
    },
    {
      "cell_type": "code",
      "metadata": {
        "colab": {
          "base_uri": "https://localhost:8080/"
        },
        "id": "fH9319pcphuI",
        "outputId": "95cdc773-e75c-47ad-c1a2-e2308217dcbd"
      },
      "source": [
        "print('WTF')"
      ],
      "execution_count": 1,
      "outputs": [
        {
          "output_type": "stream",
          "name": "stdout",
          "text": [
            "WTF\n"
          ]
        }
      ]
    },
    {
      "cell_type": "markdown",
      "metadata": {
        "id": "ODqQtkwdvidD"
      },
      "source": [
        "## More"
      ]
    },
    {
      "cell_type": "code",
      "metadata": {
        "id": "A_cKWJvJphpc"
      },
      "source": [
        "print('WTF')"
      ],
      "execution_count": null,
      "outputs": []
    },
    {
      "cell_type": "markdown",
      "metadata": {
        "id": "GW3DWgaTvmf3"
      },
      "source": [
        "## More"
      ]
    },
    {
      "cell_type": "code",
      "metadata": {
        "id": "t35mWXPQphJ1",
        "colab": {
          "base_uri": "https://localhost:8080/"
        },
        "outputId": "23b6d1b1-8872-494a-9b50-1f66f187d235"
      },
      "source": [
        "print('hey')"
      ],
      "execution_count": 19,
      "outputs": [
        {
          "output_type": "stream",
          "name": "stdout",
          "text": [
            "hey\n"
          ]
        }
      ]
    },
    {
      "cell_type": "code",
      "metadata": {
        "id": "iIjsXusYvpxV"
      },
      "source": [
        ""
      ],
      "execution_count": null,
      "outputs": []
    }
  ]
}